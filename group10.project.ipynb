{
 "cells": [
  {
   "cell_type": "markdown",
   "metadata": {},
   "source": [
    "# $$\\textbf{Python Group Project}$$"
   ]
  },
  {
   "cell_type": "markdown",
   "metadata": {},
   "source": [
    "$$\\text{October, 10 2024}$$"
   ]
  },
  {
   "cell_type": "markdown",
   "metadata": {},
   "source": [
    "### $\\text{Project Number: Project 6}$"
   ]
  },
  {
   "cell_type": "markdown",
   "metadata": {},
   "source": [
    "### $\\text{Project Title: Hexadecimal and Decimal Digits}$"
   ]
  },
  {
   "cell_type": "markdown",
   "metadata": {},
   "source": [
    "### $\\text{Group Members}$\n",
    "- Chukwuezi TOCHUKWU\n",
    "- Damas NIYONKURU\n",
    "- Linda INGABIRE\n",
    "- Darix Samani Siewe"
   ]
  },
  {
   "cell_type": "markdown",
   "metadata": {},
   "source": [
    "### $\\textbf{Objective}$\n",
    "Write two functions, $\\textbf{hex2int}$ and $\\textbf{int2hex}$, that converts between hexadecimal digits ($1$,$2$,$3$,$4$,$5$,$6$,$7$,$8$,$9$,$A$,$B$,$C$,$D$,$E$,$F$) and base $10$ integers. The $\\textbf{hex2int}$ function is respondible for converting a string containing several hexadecimal digits to a base 10 integer, while the $\\textbf{int2hex}$ function is responsible for converting an integer between $0$ and $15$ to a single hexadecimal digit. Each function will take the value to convert as its only parameter and return the converted value as the function's only result. Ensure that the $\\textbf{hex2int}$ function works correctly for both uppercase and lowercase letters. Your function should end the program with a meaningful error message if an invalid parameter is provided."
   ]
  },
  {
   "cell_type": "markdown",
   "metadata": {},
   "source": [
    "### $\\textbf{Background 1}$\n",
    "\n",
    "Given a hexadecimal number ${H = d_{l-1}d_{l-2}d_{l-3} \\cdots d_2d_1d_0}$, we can find an $N$ in base $10$ such that $N = \\sum_{k=0}^{l-1}16^{k}d_k$"
   ]
  },
  {
   "cell_type": "markdown",
   "metadata": {},
   "source": [
    "## $\\textbf{Step 1.1: Importing Relevant Modules}$"
   ]
  },
  {
   "cell_type": "markdown",
   "metadata": {},
   "source": [
    "We import time and decimal modules which helps us to determine the time precision taking by our code to run.\n",
    "\n",
    "- The `time` module helps us to determing the time taken for our code to run, helping us analyze the time complexity.\n",
    "- The `decimal` module helps us determine more accurate decimal precisions especially for very small time periods."
   ]
  },
  {
   "cell_type": "code",
   "execution_count": 2,
   "metadata": {},
   "outputs": [],
   "source": [
    "import time, decimal\n",
    "decimal.getcontext().prec = 10 # set the precision of decimal numbers such as time."
   ]
  },
  {
   "cell_type": "markdown",
   "metadata": {},
   "source": [
    "## $\\textbf{Step 1.2: Defining the Dictionary Maps}$"
   ]
  },
  {
   "cell_type": "markdown",
   "metadata": {},
   "source": [
    " Define the dictionaries that serves as the reference for our conversion from hexadecimal to integer."
   ]
  },
  {
   "cell_type": "code",
   "execution_count": 20,
   "metadata": {},
   "outputs": [
    {
     "name": "stdout",
     "output_type": "stream",
     "text": [
      "{'0': 0, '1': 1, '2': 2, '3': 3, '4': 4, '5': 5, '6': 6, '7': 7, '8': 8, '9': 9, 'a': 10, 'b': 11, 'c': 12, 'd': 13, 'e': 14, 'f': 15}\n"
     ]
    }
   ],
   "source": [
    "dic_hex2int = {\"0\":0, \"1\":1, \"2\":2, \"3\":3, \"4\":4, \"5\":5, \"6\":6, \"7\":7, \"8\":8, \"9\":9, \"a\":10, \"b\":11, \"c\":12, \"d\":13, \"e\":14, \"f\":15} # hexadecimal to integer.\n",
    "print(dic_hex2int)"
   ]
  },
  {
   "cell_type": "markdown",
   "metadata": {},
   "source": [
    "## $\\textbf{Step 1.3: Implementation of Algorithm for HEX to INT conversion}$"
   ]
  },
  {
   "cell_type": "code",
   "execution_count": 25,
   "metadata": {},
   "outputs": [
    {
     "name": "stdout",
     "output_type": "stream",
     "text": [
      "Enter a hexadecimal number: 5a6f\n",
      "\t\n",
      "The equivalent base_10 number is 23151\n",
      "The time taken is 11.70 micro seconds.\n"
     ]
    }
   ],
   "source": [
    "# Collect user input\n",
    "while True: # The while loop keeps the user stuck in the loop until a valid hexadecimal number is encountered.\n",
    "    hexa = input(\"Enter a hexadecimal number: \").lower() # converts in user's input to lower case on entry.\n",
    "        \n",
    "    if all([char in dic_hex2int for char in hexa]): # Checks if all digit entered is in our dictionary domain.\n",
    "        break\n",
    "    else:\n",
    "        print(\"Invalid hexadecimal number. Please enter a valid hexadecimal number.\\n\")\n",
    "\n",
    "\n",
    "#Define the dexademimal function\n",
    "def hex2int(hexa):\n",
    "    \"\"\"\n",
    "    This function takes a hexadecimal number (string) and converts it into the corresponding base 10 integer.\n",
    "    \n",
    "    Input Parameters:\n",
    "    hexa (str) the value of the hexadecimal digit to convert.\n",
    "    \n",
    "    Output Parameters:\n",
    "    INT_value (int) The base 10 integer value corresponding to the hexadecimal number.\n",
    "    time_taken (float) The time taken to compute the conversion from hex to base 10.\n",
    "    \"\"\"\n",
    "    # Declare a time variable to track start of algorithm implementation\n",
    "    start = decimal.Decimal(time.perf_counter())\n",
    "    \n",
    "    l = len(hexa) # obtain the length of the input hexadecimal string.\n",
    "\n",
    "    INT_value = 0 # this variable holds the result of the algorithm\n",
    "    \n",
    "    for i, digit in enumerate(hexa):\n",
    "        INT_value += dic_hex2int[digit]*16**(l-(i+1)) # each digit in hexadecimal is multipled with 16 to the right power.\n",
    "\n",
    "    # Declare a time variable to track end of algorithm implementation\n",
    "    end = decimal.Decimal(time.perf_counter())\n",
    "    time_taken = round((end - start), 10)\n",
    "    \n",
    "    print(\"\\t\")\n",
    "    \n",
    "    # return result and time taken to run implement the algorithm.\n",
    "    return INT_value, time_taken\n",
    "\n",
    "\n",
    "\n",
    "\n",
    "# Call the function and print the result and time taken to compute it.\n",
    "int_value, runtime_h2i = hex2int(hexa)\n",
    "\n",
    "# print(hex2int.__doc__)\n",
    "print(f\"The equivalent base_10 number is {int_value}\")\n",
    "print(f\"The time taken is {round(runtime_h2i*10**6, 2)} micro seconds.\")"
   ]
  },
  {
   "cell_type": "markdown",
   "metadata": {},
   "source": [
    "### $\\textbf{Background 2}$\n",
    "\n",
    "Given an integer $N$, we can find the equivalent base_16 number by using the `Repeated Division by Base Algorithm` which returns the remainders for the division of two integers.\n",
    "\n",
    "For instance, lets consider that $N = 23151$,\n",
    "\n",
    "Let $H$ be the equivalent base_16 number.\n",
    "\n",
    "To convert to base_16, we follow the iterative division as follows:"
   ]
  },
  {
   "cell_type": "markdown",
   "metadata": {},
   "source": [
    "| `16` | `23151` | $$\\text{Remainders}$$|\n",
    "|:-----|:---------|------:|\n",
    "|`16`   | `1446` |  `15`\n",
    "|`16`   | `90` |  `6`|\n",
    "|`16`   | `5` |  `10`|\n",
    "|`16`   | `0` |  `5`|"
   ]
  },
  {
   "cell_type": "markdown",
   "metadata": {},
   "source": [
    "We then collect the results in reverse order:\n",
    "\n",
    "$$5 \\rightarrow 10 \\rightarrow 6 \\rightarrow 15$$"
   ]
  },
  {
   "cell_type": "markdown",
   "metadata": {},
   "source": [
    "We then map the remainders to equivalent base_16 values using a predefined integer-to-hexadecimal dictionary D as follows:\n",
    "    $$D(5) \\rightarrow D(10) \\rightarrow D(6) \\rightarrow D(15)$$\n",
    "    \n",
    "This gives:\n",
    "        \n",
    "$$\"5\" \\rightarrow \"a\" \\rightarrow \"6\" \\rightarrow \"f\"$$\n",
    "    \n",
    "Then we join this individual strings into one string giving:\n",
    "    \n",
    "$$\\text{\"5a6f\"}$$\n",
    "    "
   ]
  },
  {
   "cell_type": "markdown",
   "metadata": {},
   "source": [
    "## $\\textbf{Step 2.2: Defining the Dictionary Maps}$"
   ]
  },
  {
   "cell_type": "markdown",
   "metadata": {},
   "source": [
    " Define the dictionaries that serves as the reference for our conversion from integer to hexadecimal."
   ]
  },
  {
   "cell_type": "code",
   "execution_count": 7,
   "metadata": {},
   "outputs": [
    {
     "name": "stdout",
     "output_type": "stream",
     "text": [
      "{0: '0', 1: '1', 2: '2', 3: '3', 4: '4', 5: '5', 6: '6', 7: '7', 8: '8', 9: '9', 10: 'a', 11: 'b', 12: 'c', 13: 'd', 14: 'e', 15: 'f'}\n"
     ]
    }
   ],
   "source": [
    "dic_int2hex = {integer:hexa for hexa, integer in dic_hex2int.items()}\n",
    "\n",
    "print(dic_int2hex)\n",
    "# dic_int2hex: {0:\"0\", 1:\"1\", 2:\"2\", 3:\"3\", 4:\"4\", 5:\"5\", 6:\"6\", 7:\"7\", 8:\"8\", 9:\"9\", 10:\"a\", 11:\"b\", 12:\"c\", 13:\"d\", 14:\"e\", 15:\"f\"} # integer to hexadecimal."
   ]
  },
  {
   "cell_type": "markdown",
   "metadata": {},
   "source": [
    "## $\\textbf{Step 2.3: Implementing the Repeated Division Algorithm to convert INT to HEX}$"
   ]
  },
  {
   "cell_type": "code",
   "execution_count": 26,
   "metadata": {},
   "outputs": [
    {
     "name": "stdout",
     "output_type": "stream",
     "text": [
      "Enter a base 10 integer: 23151\n",
      "\t\n",
      "The equivalent hexadecimal number is 5a6f\n",
      "The time taken is 36.70 mirco seconds.\n"
     ]
    }
   ],
   "source": [
    "while True: # The while loop keeps the user stuck in the loop until a valid hexadecimal number is encountered.\n",
    "    N = input(\"Enter a base 10 integer: \")\n",
    "    if all([int(d) in dic_int2hex for d in N]): # checks if all the digits of n are in the int to hex dictionary\n",
    "        break       \n",
    "    else:\n",
    "        print(\"Invalid integer number. Please enter a valid integer number.\")\n",
    "    \n",
    "\n",
    "    \n",
    "def int2hex(N) -> str:\n",
    "    \"\"\"\n",
    "    This function converts a base_10 integer into hexadecimal number using the repititive division algorithm.\n",
    "    \n",
    "    Input Parameters:\n",
    "    N (int)  the integer to convert.\n",
    "    \n",
    "    Output Parameters:\n",
    "    H (str) the hexadecimal value obtained from the string.\n",
    "    \"\"\"\n",
    "    \n",
    "    # Declare a time variable to track start of algorithm implementation\n",
    "    start = decimal.Decimal(time.perf_counter())\n",
    "    \n",
    "    result = []\n",
    "    N = int(N) # convert string to integer to perform operations.\n",
    "    while N%16  != 0:\n",
    "        result.append(N%16) # append the remainder from each division to the result until we can no longer divide.\n",
    "        N = N//16 # upate the dividend in each iteration until N == 0\n",
    "    \n",
    "    # Reverse the result which holds the remainder values from the earliest.\n",
    "    reversed_result = result[::-1]\n",
    "    \n",
    "    # Convert the remainder to their mapped values using the dictionary dic_int2hex\n",
    "    mapped_result = [dic_int2hex[i] for i in reversed_result]\n",
    "    \n",
    "    H = \"\".join(mapped_result) # Join back the reversed elements in the mapped_result array and save in variable H.\n",
    "    \n",
    "    # Declare a time variable to keep track of the end of execution.\n",
    "    end = decimal.Decimal(time.perf_counter())\n",
    "    time_taken = round((end - start), 10)\n",
    "    \n",
    "    print('\\t')\n",
    "    # return result and time taken to run implement the algorithm.\n",
    "    return  H, time_taken\n",
    "\n",
    "\n",
    "# Call the function and print the result and time taken to compute it.\n",
    "hex_value, runtime_i2h = int2hex(N)\n",
    "\n",
    "# print(int2hex.__doc__)\n",
    "print(f\"The equivalent hexadecimal number is {hex_value}\")\n",
    "print(f\"The time taken is {round(runtime_i2h*10**6, 2)} mirco seconds.\")"
   ]
  },
  {
   "cell_type": "code",
   "execution_count": null,
   "metadata": {},
   "outputs": [],
   "source": []
  }
 ],
 "metadata": {
  "kernelspec": {
   "display_name": "Python 3 (ipykernel)",
   "language": "python",
   "name": "python3"
  },
  "language_info": {
   "codemirror_mode": {
    "name": "ipython",
    "version": 3
   },
   "file_extension": ".py",
   "mimetype": "text/x-python",
   "name": "python",
   "nbconvert_exporter": "python",
   "pygments_lexer": "ipython3",
   "version": "3.11.5"
  }
 },
 "nbformat": 4,
 "nbformat_minor": 2
}
